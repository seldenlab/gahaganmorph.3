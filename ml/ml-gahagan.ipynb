{
 "cells": [
  {
   "cell_type": "raw",
   "source": [],
   "metadata": {
    "collapsed": false,
    "pycharm": {
     "name": "#%% raw\n"
    }
   }
  },
  {
   "cell_type": "markdown",
   "source": [
    "# Support Vector Machine: Are temporal differences in mortuary assemblage diversity predictable?"
   ],
   "metadata": {
    "collapsed": false
   }
  },
  {
   "cell_type": "code",
   "execution_count": 4,
   "outputs": [
    {
     "data": {
      "text/plain": "       context region    temporal  adult_male  adult_female  uid_adult  \\\n0  41CE19-F134  South     Initial           0             2          4   \n1  41CE19-F119  South  Subsequent           1             1          2   \n2    16RR1-BP2  South  Subsequent           2             2          0   \n3    16RR1-BP3  South     Initial           1             0          1   \n4   16CD12-BP1  North     Initial           1             0          1   \n\n   total_adult  juvenile_male  juvenile_female  uid_juvenile  ...  reed  \\\n0            6              0                0             1  ...     0   \n1            4              0                0             0  ...     0   \n2            4              0                1             0  ...    16   \n3            2              0                0             1  ...     0   \n4            2              0                0             1  ...     0   \n\n   scallorn  coles_creek  hickory_engraved  holly_fine_engraved  kiam_incised  \\\n0         0            0                 0                    0             0   \n1         0            0                 0                    2             0   \n2        19            0                 1                    1             1   \n3        11            0                 0                    1             0   \n4         0            1                 1                    1             0   \n\n   ceramic_bottle  ceramic_bowl  lithics  ceramics  \n0               0             0      184         0  \n1               1             1       21         2  \n2               1             2      106         3  \n3               1             0      118         1  \n4               0             2       43         3  \n\n[5 rows x 28 columns]",
      "text/html": "<div>\n<style scoped>\n    .dataframe tbody tr th:only-of-type {\n        vertical-align: middle;\n    }\n\n    .dataframe tbody tr th {\n        vertical-align: top;\n    }\n\n    .dataframe thead th {\n        text-align: right;\n    }\n</style>\n<table border=\"1\" class=\"dataframe\">\n  <thead>\n    <tr style=\"text-align: right;\">\n      <th></th>\n      <th>context</th>\n      <th>region</th>\n      <th>temporal</th>\n      <th>adult_male</th>\n      <th>adult_female</th>\n      <th>uid_adult</th>\n      <th>total_adult</th>\n      <th>juvenile_male</th>\n      <th>juvenile_female</th>\n      <th>uid_juvenile</th>\n      <th>...</th>\n      <th>reed</th>\n      <th>scallorn</th>\n      <th>coles_creek</th>\n      <th>hickory_engraved</th>\n      <th>holly_fine_engraved</th>\n      <th>kiam_incised</th>\n      <th>ceramic_bottle</th>\n      <th>ceramic_bowl</th>\n      <th>lithics</th>\n      <th>ceramics</th>\n    </tr>\n  </thead>\n  <tbody>\n    <tr>\n      <th>0</th>\n      <td>41CE19-F134</td>\n      <td>South</td>\n      <td>Initial</td>\n      <td>0</td>\n      <td>2</td>\n      <td>4</td>\n      <td>6</td>\n      <td>0</td>\n      <td>0</td>\n      <td>1</td>\n      <td>...</td>\n      <td>0</td>\n      <td>0</td>\n      <td>0</td>\n      <td>0</td>\n      <td>0</td>\n      <td>0</td>\n      <td>0</td>\n      <td>0</td>\n      <td>184</td>\n      <td>0</td>\n    </tr>\n    <tr>\n      <th>1</th>\n      <td>41CE19-F119</td>\n      <td>South</td>\n      <td>Subsequent</td>\n      <td>1</td>\n      <td>1</td>\n      <td>2</td>\n      <td>4</td>\n      <td>0</td>\n      <td>0</td>\n      <td>0</td>\n      <td>...</td>\n      <td>0</td>\n      <td>0</td>\n      <td>0</td>\n      <td>0</td>\n      <td>2</td>\n      <td>0</td>\n      <td>1</td>\n      <td>1</td>\n      <td>21</td>\n      <td>2</td>\n    </tr>\n    <tr>\n      <th>2</th>\n      <td>16RR1-BP2</td>\n      <td>South</td>\n      <td>Subsequent</td>\n      <td>2</td>\n      <td>2</td>\n      <td>0</td>\n      <td>4</td>\n      <td>0</td>\n      <td>1</td>\n      <td>0</td>\n      <td>...</td>\n      <td>16</td>\n      <td>19</td>\n      <td>0</td>\n      <td>1</td>\n      <td>1</td>\n      <td>1</td>\n      <td>1</td>\n      <td>2</td>\n      <td>106</td>\n      <td>3</td>\n    </tr>\n    <tr>\n      <th>3</th>\n      <td>16RR1-BP3</td>\n      <td>South</td>\n      <td>Initial</td>\n      <td>1</td>\n      <td>0</td>\n      <td>1</td>\n      <td>2</td>\n      <td>0</td>\n      <td>0</td>\n      <td>1</td>\n      <td>...</td>\n      <td>0</td>\n      <td>11</td>\n      <td>0</td>\n      <td>0</td>\n      <td>1</td>\n      <td>0</td>\n      <td>1</td>\n      <td>0</td>\n      <td>118</td>\n      <td>1</td>\n    </tr>\n    <tr>\n      <th>4</th>\n      <td>16CD12-BP1</td>\n      <td>North</td>\n      <td>Initial</td>\n      <td>1</td>\n      <td>0</td>\n      <td>1</td>\n      <td>2</td>\n      <td>0</td>\n      <td>0</td>\n      <td>1</td>\n      <td>...</td>\n      <td>0</td>\n      <td>0</td>\n      <td>1</td>\n      <td>1</td>\n      <td>1</td>\n      <td>0</td>\n      <td>0</td>\n      <td>2</td>\n      <td>43</td>\n      <td>3</td>\n    </tr>\n  </tbody>\n</table>\n<p>5 rows × 28 columns</p>\n</div>"
     },
     "execution_count": 4,
     "metadata": {},
     "output_type": "execute_result"
    }
   ],
   "source": [
    "# load analysis packages\n",
    "import pandas as pd\n",
    "%matplotlib inline\n",
    "import matplotlib.pyplot as plt\n",
    "from sklearn.model_selection import train_test_split\n",
    "from sklearn.preprocessing import StandardScaler\n",
    "from sklearn.model_selection import cross_val_score\n",
    "from sklearn import svm\n",
    "from sklearn.svm import SVC\n",
    "from sklearn.model_selection import GridSearchCV\n",
    "from sklearn.pipeline import Pipeline\n",
    "from sklearn.metrics import roc_auc_score, accuracy_score\n",
    "from sklearn import metrics\n",
    "\n",
    "# read data\n",
    "data = pd.read_csv('gahagan-diversity.csv')\n",
    "data.head()"
   ],
   "metadata": {
    "collapsed": false,
    "pycharm": {
     "name": "#%%\n"
    }
   }
  }
 ],
 "metadata": {
  "kernelspec": {
   "display_name": "Python 3",
   "language": "python",
   "name": "python3"
  },
  "language_info": {
   "codemirror_mode": {
    "name": "ipython",
    "version": 2
   },
   "file_extension": ".py",
   "mimetype": "text/x-python",
   "name": "python",
   "nbconvert_exporter": "python",
   "pygments_lexer": "ipython2",
   "version": "2.7.6"
  }
 },
 "nbformat": 4,
 "nbformat_minor": 0
}